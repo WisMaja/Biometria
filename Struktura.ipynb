{
 "cells": [
  {
   "cell_type": "markdown",
   "metadata": {},
   "source": [
    "# Projekt\n",
    "\n",
    "\n",
    "|Nazwa Pliku | Opis        | \n",
    "|------------|-------------|\n",
    "| encrypt_decrypt.py  |Skrypty do szyfrowania i deszyfrowania plików  | \n",
    "| face_auth.py  | Skrypty do uwierzytelniania biometrycznego | \n",
    "| gui.py    | Interfejs użytkownika  | \n",
    "| requirements.txt   |Plik z zależnościami   | \n",
    "| README.md   | Dokumentacja projektu  | \n",
    "| data/ | Folder na pliki użytkownika (opcjonalnie)   | "
   ]
  },
  {
   "cell_type": "markdown",
   "metadata": {},
   "source": []
  }
 ],
 "metadata": {
  "kernelspec": {
   "display_name": "Python 3",
   "language": "python",
   "name": "python3"
  },
  "language_info": {
   "codemirror_mode": {
    "name": "ipython",
    "version": 3
   },
   "file_extension": ".py",
   "mimetype": "text/x-python",
   "name": "python",
   "nbconvert_exporter": "python",
   "pygments_lexer": "ipython3",
   "version": "3.12.2"
  }
 },
 "nbformat": 4,
 "nbformat_minor": 2
}
